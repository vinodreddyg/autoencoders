{
 "cells": [
  {
   "cell_type": "code",
   "execution_count": 1,
   "metadata": {
    "nbpresent": {
     "id": "e4f39475-bc12-434f-be6e-fb0320552a14"
    }
   },
   "outputs": [
    {
     "name": "stderr",
     "output_type": "stream",
     "text": [
      "Using TensorFlow backend.\n"
     ]
    }
   ],
   "source": [
    "# Inspired from https://wiseodd.github.io/techblog/2016/12/05/contractive-autoencoder/\n",
    "\n",
    "from keras.layers import Input, Dense, Dropout\n",
    "from keras.models import Model\n",
    "from keras import regularizers\n",
    "from keras.callbacks import TensorBoard\n",
    "from keras.optimizers import Adam\n",
    "import keras.backend as K\n",
    "from keras import regularizers"
   ]
  },
  {
   "cell_type": "code",
   "execution_count": 2,
   "metadata": {
    "nbpresent": {
     "id": "7b3780df-b300-477b-813f-d1bba2ac7627"
    }
   },
   "outputs": [],
   "source": [
    "encoding_dim = 256\n",
    "\n",
    "input_img = Input(shape = (784,))\n",
    "encoded = Dense(encoding_dim, activation='sigmoid', name='encoder')(input_img)\n",
    "decoded = Dense(784, activation='sigmoid', name='decoder')(encoded)\n",
    "\n",
    "autoencoder = Model(input_img, decoded)"
   ]
  },
  {
   "cell_type": "code",
   "execution_count": 3,
   "metadata": {
    "nbpresent": {
     "id": "611bbfd5-8391-44d4-a700-de2885da80ab"
    }
   },
   "outputs": [],
   "source": [
    "from keras.losses import binary_crossentropy\n",
    "\n",
    "lam = 0.001\n",
    "\n",
    "def contractive_loss(y_true, y_pred):\n",
    "    base_error = binary_crossentropy(y_true, y_pred)\n",
    "    \n",
    "    h = autoencoder.get_layer('encoder').output\n",
    "    W = K.variable(value = autoencoder.get_layer('encoder').get_weights()[0])\n",
    "    W = K.transpose(W)\n",
    "    factor = h*(1-h)\n",
    "    contractive_error = lam*K.sum(factor**2 * K.sum(W**2, axis=1), axis=1)\n",
    "    \n",
    "    return base_error + contractive_error"
   ]
  },
  {
   "cell_type": "code",
   "execution_count": 4,
   "metadata": {
    "nbpresent": {
     "id": "3a9e304e-4c09-416d-bc31-4bed6467cb3d"
    }
   },
   "outputs": [],
   "source": [
    "# Encoder model\n",
    "encoder = Model(input_img, encoded)\n",
    "encoded_input = Input(shape=(encoding_dim,))\n",
    "\n",
    "# Decoder model\n",
    "decoder_layer = autoencoder.get_layer('decoder')\n",
    "decoder = Model(encoded_input, decoder_layer(encoded_input))"
   ]
  },
  {
   "cell_type": "code",
   "execution_count": 5,
   "metadata": {
    "nbpresent": {
     "id": "18b418e6-4176-4848-873d-44f3c10017c6"
    }
   },
   "outputs": [],
   "source": [
    "autoencoder.compile(optimizer = Adam(lr=0.001, decay = 0.0001), loss=contractive_loss)"
   ]
  },
  {
   "cell_type": "code",
   "execution_count": 6,
   "metadata": {
    "nbpresent": {
     "id": "20de0e86-cbf7-4e18-8af9-ff6fee45097d"
    }
   },
   "outputs": [],
   "source": [
    "from keras.datasets import mnist\n",
    "import numpy as np\n",
    "\n",
    "(x_train, _), (x_test,_) = mnist.load_data()\n",
    "\n",
    "x_train = x_train.astype('float32')/255\n",
    "x_test = x_test.astype('float32')/255\n",
    "\n",
    "x_train = x_train.reshape((len(x_train), np.prod(x_train.shape[1:])))\n",
    "x_test = x_test.reshape((len(x_test), np.prod(x_test.shape[1:])))"
   ]
  },
  {
   "cell_type": "code",
   "execution_count": 7,
   "metadata": {
    "nbpresent": {
     "id": "6f7f35f7-9e7c-4830-b218-a01432f625c8"
    }
   },
   "outputs": [
    {
     "name": "stdout",
     "output_type": "stream",
     "text": [
      "Train on 60000 samples, validate on 10000 samples\n",
      "Epoch 1/50\n",
      "60000/60000 [==============================] - 2s 27us/step - loss: 0.2552 - val_loss: 0.1993\n",
      "Epoch 2/50\n",
      "60000/60000 [==============================] - 1s 23us/step - loss: 0.1806 - val_loss: 0.1633\n",
      "Epoch 3/50\n",
      "60000/60000 [==============================] - 1s 23us/step - loss: 0.1529 - val_loss: 0.1414\n",
      "Epoch 4/50\n",
      "60000/60000 [==============================] - 1s 24us/step - loss: 0.1348 - val_loss: 0.1265\n",
      "Epoch 5/50\n",
      "60000/60000 [==============================] - 1s 23us/step - loss: 0.1222 - val_loss: 0.1160\n",
      "Epoch 6/50\n",
      "60000/60000 [==============================] - 1s 23us/step - loss: 0.1132 - val_loss: 0.1085\n",
      "Epoch 7/50\n",
      "60000/60000 [==============================] - 1s 23us/step - loss: 0.1066 - val_loss: 0.1028\n",
      "Epoch 8/50\n",
      "60000/60000 [==============================] - 1s 24us/step - loss: 0.1015 - val_loss: 0.0985\n",
      "Epoch 9/50\n",
      "60000/60000 [==============================] - 1s 23us/step - loss: 0.0976 - val_loss: 0.0951\n",
      "Epoch 10/50\n",
      "60000/60000 [==============================] - 1s 23us/step - loss: 0.0946 - val_loss: 0.0925\n",
      "Epoch 11/50\n",
      "60000/60000 [==============================] - 1s 24us/step - loss: 0.0922 - val_loss: 0.0904\n",
      "Epoch 12/50\n",
      "60000/60000 [==============================] - 1s 23us/step - loss: 0.0902 - val_loss: 0.0886\n",
      "Epoch 13/50\n",
      "60000/60000 [==============================] - 1s 23us/step - loss: 0.0886 - val_loss: 0.0872\n",
      "Epoch 14/50\n",
      "60000/60000 [==============================] - 1s 23us/step - loss: 0.0872 - val_loss: 0.0860\n",
      "Epoch 15/50\n",
      "60000/60000 [==============================] - 1s 23us/step - loss: 0.0860 - val_loss: 0.0849\n",
      "Epoch 16/50\n",
      "60000/60000 [==============================] - 1s 23us/step - loss: 0.0850 - val_loss: 0.0840\n",
      "Epoch 17/50\n",
      "60000/60000 [==============================] - 1s 23us/step - loss: 0.0841 - val_loss: 0.0832\n",
      "Epoch 18/50\n",
      "60000/60000 [==============================] - 1s 23us/step - loss: 0.0833 - val_loss: 0.0825\n",
      "Epoch 19/50\n",
      "60000/60000 [==============================] - 1s 23us/step - loss: 0.0826 - val_loss: 0.0819\n",
      "Epoch 20/50\n",
      "60000/60000 [==============================] - 1s 23us/step - loss: 0.0820 - val_loss: 0.0814\n",
      "Epoch 21/50\n",
      "60000/60000 [==============================] - 1s 23us/step - loss: 0.0814 - val_loss: 0.0809\n",
      "Epoch 22/50\n",
      "60000/60000 [==============================] - 1s 23us/step - loss: 0.0809 - val_loss: 0.0804\n",
      "Epoch 23/50\n",
      "60000/60000 [==============================] - 1s 23us/step - loss: 0.0805 - val_loss: 0.0800\n",
      "Epoch 24/50\n",
      "60000/60000 [==============================] - 1s 23us/step - loss: 0.0801 - val_loss: 0.0797\n",
      "Epoch 25/50\n",
      "60000/60000 [==============================] - 1s 23us/step - loss: 0.0797 - val_loss: 0.0793\n",
      "Epoch 26/50\n",
      "60000/60000 [==============================] - 1s 23us/step - loss: 0.0794 - val_loss: 0.0790\n",
      "Epoch 27/50\n",
      "60000/60000 [==============================] - 1s 23us/step - loss: 0.0791 - val_loss: 0.0788\n",
      "Epoch 28/50\n",
      "60000/60000 [==============================] - 1s 23us/step - loss: 0.0788 - val_loss: 0.0785\n",
      "Epoch 29/50\n",
      "60000/60000 [==============================] - 1s 23us/step - loss: 0.0785 - val_loss: 0.0783\n",
      "Epoch 30/50\n",
      "60000/60000 [==============================] - 1s 23us/step - loss: 0.0783 - val_loss: 0.0781\n",
      "Epoch 31/50\n",
      "60000/60000 [==============================] - 1s 23us/step - loss: 0.0781 - val_loss: 0.0779\n",
      "Epoch 32/50\n",
      "60000/60000 [==============================] - 1s 24us/step - loss: 0.0779 - val_loss: 0.0777\n",
      "Epoch 33/50\n",
      "60000/60000 [==============================] - 1s 24us/step - loss: 0.0777 - val_loss: 0.0776\n",
      "Epoch 34/50\n",
      "60000/60000 [==============================] - 1s 24us/step - loss: 0.0775 - val_loss: 0.0774\n",
      "Epoch 35/50\n",
      "60000/60000 [==============================] - 1s 24us/step - loss: 0.0773 - val_loss: 0.0772\n",
      "Epoch 36/50\n",
      "60000/60000 [==============================] - 1s 24us/step - loss: 0.0772 - val_loss: 0.0771\n",
      "Epoch 37/50\n",
      "60000/60000 [==============================] - 1s 24us/step - loss: 0.0770 - val_loss: 0.0770\n",
      "Epoch 38/50\n",
      "60000/60000 [==============================] - 1s 24us/step - loss: 0.0769 - val_loss: 0.0769\n",
      "Epoch 39/50\n",
      "60000/60000 [==============================] - 1s 24us/step - loss: 0.0768 - val_loss: 0.0767\n",
      "Epoch 40/50\n",
      "60000/60000 [==============================] - 1s 24us/step - loss: 0.0767 - val_loss: 0.0766\n",
      "Epoch 41/50\n",
      "60000/60000 [==============================] - 1s 24us/step - loss: 0.0765 - val_loss: 0.0765\n",
      "Epoch 42/50\n",
      "60000/60000 [==============================] - 1s 23us/step - loss: 0.0764 - val_loss: 0.0764\n",
      "Epoch 43/50\n",
      "60000/60000 [==============================] - 1s 24us/step - loss: 0.0763 - val_loss: 0.0763\n",
      "Epoch 44/50\n",
      "60000/60000 [==============================] - 1s 23us/step - loss: 0.0762 - val_loss: 0.0762\n",
      "Epoch 45/50\n",
      "60000/60000 [==============================] - 1s 24us/step - loss: 0.0761 - val_loss: 0.0762\n",
      "Epoch 46/50\n",
      "60000/60000 [==============================] - 1s 24us/step - loss: 0.0761 - val_loss: 0.0761\n",
      "Epoch 47/50\n",
      "60000/60000 [==============================] - 1s 24us/step - loss: 0.0760 - val_loss: 0.0760\n",
      "Epoch 48/50\n",
      "60000/60000 [==============================] - 1s 23us/step - loss: 0.0759 - val_loss: 0.0759\n",
      "Epoch 49/50\n",
      "60000/60000 [==============================] - 1s 24us/step - loss: 0.0758 - val_loss: 0.0759\n",
      "Epoch 50/50\n",
      "60000/60000 [==============================] - 1s 24us/step - loss: 0.0758 - val_loss: 0.0758\n"
     ]
    },
    {
     "data": {
      "text/plain": [
       "<keras.callbacks.History at 0x7fba89003e50>"
      ]
     },
     "execution_count": 7,
     "metadata": {},
     "output_type": "execute_result"
    }
   ],
   "source": [
    "autoencoder.fit(x_train, x_train, epochs=50, batch_size=256, shuffle=True, validation_data=(x_test,x_test))"
   ]
  },
  {
   "cell_type": "code",
   "execution_count": null,
   "metadata": {
    "nbpresent": {
     "id": "3675afc3-5a34-49da-977d-22cfe9315170"
    }
   },
   "outputs": [],
   "source": [
    "weights,biases = autoencoder.get_layer('encoder').get_weights()\n",
    "weights = weights.T\n",
    "weights = weights.T.reshape((len(weights), 28, 28))\n",
    "\n",
    "pixeled_weights = np.heaviside(weights, 0.5)*255"
   ]
  },
  {
   "cell_type": "code",
   "execution_count": null,
   "metadata": {
    "nbpresent": {
     "id": "394f4e9d-0542-45df-8b3f-dc53b4726dfc"
    }
   },
   "outputs": [],
   "source": [
    "encoder_imgs = encoder.predict(x_test)\n",
    "decoder_imgs = decoder.predict(encoder_imgs)"
   ]
  },
  {
   "cell_type": "code",
   "execution_count": null,
   "metadata": {
    "nbpresent": {
     "id": "53c07cce-f153-4ba1-a060-c2d9494c4002"
    }
   },
   "outputs": [],
   "source": [
    "%matplotlib inline\n",
    "import matplotlib.pyplot as plt\n",
    "def show_imgs(n, r, c, imgs):\n",
    "    plt.figure(figsize=(2*c, 2*c))\n",
    "    for i in range(n):\n",
    "        ax = plt.subplot(r,c,i+1)\n",
    "        plt.imshow(imgs[i])\n",
    "        plt.gray()\n",
    "        ax.get_xaxis().set_visible(False)\n",
    "        ax.get_yaxis().set_visible(False)\n",
    "    plt.show()"
   ]
  },
  {
   "cell_type": "code",
   "execution_count": null,
   "metadata": {
    "nbpresent": {
     "id": "1ae6a102-7385-4638-b7d1-2671b1053261"
    }
   },
   "outputs": [],
   "source": [
    "show_imgs(10,1,10,x_test[0:10].reshape((10,28,28)))\n",
    "show_imgs(10,1,10,decoder_imgs[0:10].reshape((10,28,28)))"
   ]
  },
  {
   "cell_type": "code",
   "execution_count": null,
   "metadata": {
    "nbpresent": {
     "id": "2f049e65-7aa5-447e-ae90-244c485e500d"
    }
   },
   "outputs": [],
   "source": [
    "show_imgs(encoding_dim, 16, 16, pixeled_weights)"
   ]
  }
 ],
 "metadata": {
  "kernelspec": {
   "display_name": "Python [conda env:tensorflow_p27]",
   "language": "python",
   "name": "conda-env-tensorflow_p27-py"
  },
  "language_info": {
   "codemirror_mode": {
    "name": "ipython",
    "version": 2
   },
   "file_extension": ".py",
   "mimetype": "text/x-python",
   "name": "python",
   "nbconvert_exporter": "python",
   "pygments_lexer": "ipython2",
   "version": "2.7.14"
  }
 },
 "nbformat": 4,
 "nbformat_minor": 2
}
